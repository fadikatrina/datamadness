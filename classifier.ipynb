{
 "cells": [
  {
   "cell_type": "code",
   "execution_count": 1,
   "metadata": {
    "collapsed": true
   },
   "outputs": [
    {
     "name": "stderr",
     "output_type": "stream",
     "text": [
      "/Users/fadikatrina/sandbox/uni_data_analysis/env/lib/python3.9/site-packages/xgboost/compat.py:36: FutureWarning: pandas.Int64Index is deprecated and will be removed from pandas in a future version. Use pandas.Index with the appropriate dtype instead.\n",
      "  from pandas import MultiIndex, Int64Index\n"
     ]
    },
    {
     "name": "stdout",
     "output_type": "stream",
     "text": [
      "[22:58:43] WARNING: /Users/runner/work/xgboost/xgboost/src/data/data.cc:759: No format parameter is provided in input uri.  Choosing default parser in dmlc-core.  Consider providing a uri parameter like: filename?format=csv\n"
     ]
    },
    {
     "ename": "XGBoostError",
     "evalue": "[22:58:43] /Users/runner/work/xgboost/xgboost/src/data/data.cc:765: Encountered parser error:\n[22:58:43] /Users/runner/work/xgboost/xgboost/dmlc-core/src/data/./row_block.h:177: Check failed: offset.back() == value.size() || value.size() == 0: \nStack trace:\n  [bt] (0) 1   libxgboost.dylib                    0x00000001284a34a4 dmlc::LogMessageFatal::~LogMessageFatal() + 116\n  [bt] (1) 2   libxgboost.dylib                    0x000000012865745b dmlc::data::RowBlockContainer<unsigned int, float>::GetBlock() const + 683\n  [bt] (2) 3   libxgboost.dylib                    0x00000001286705a7 dmlc::data::ThreadedParser<unsigned int, float>::Next() + 215\n  [bt] (3) 4   libxgboost.dylib                    0x00000001284f94b7 xgboost::data::FileAdapter::Next() + 23\n  [bt] (4) 5   libxgboost.dylib                    0x000000012850d0f0 xgboost::data::SimpleDMatrix::SimpleDMatrix<xgboost::data::FileAdapter>(xgboost::data::FileAdapter*, float, int) + 368\n  [bt] (5) 6   libxgboost.dylib                    0x00000001284f5349 xgboost::DMatrix::Load(std::__1::basic_string<char, std::__1::char_traits<char>, std::__1::allocator<char> > const&, bool, bool, std::__1::basic_string<char, std::__1::char_traits<char>, std::__1::allocator<char> > const&) + 2521\n  [bt] (6) 7   libxgboost.dylib                    0x0000000128491cfc XGDMatrixCreateFromFile + 316\n  [bt] (7) 8   libffi.dylib                        0x00007fff2dda28f5 ffi_call_unix64 + 85\n  [bt] (8) 9   ???                                 0x00007ffeeabf0e30 0x0 + 140732836810288\n\n\nStack trace:\n  [bt] (0) 1   libxgboost.dylib                    0x00000001284a34a4 dmlc::LogMessageFatal::~LogMessageFatal() + 116\n  [bt] (1) 2   libxgboost.dylib                    0x00000001284f5d46 xgboost::DMatrix::Load(std::__1::basic_string<char, std::__1::char_traits<char>, std::__1::allocator<char> > const&, bool, bool, std::__1::basic_string<char, std::__1::char_traits<char>, std::__1::allocator<char> > const&) + 5078\n  [bt] (2) 3   libxgboost.dylib                    0x0000000128491cfc XGDMatrixCreateFromFile + 316\n  [bt] (3) 4   libffi.dylib                        0x00007fff2dda28f5 ffi_call_unix64 + 85\n  [bt] (4) 5   ???                                 0x00007ffeeabf0e30 0x0 + 140732836810288\n\n",
     "output_type": "error",
     "traceback": [
      "\u001B[0;31m---------------------------------------------------------------------------\u001B[0m",
      "\u001B[0;31mXGBoostError\u001B[0m                              Traceback (most recent call last)",
      "Input \u001B[0;32mIn [1]\u001B[0m, in \u001B[0;36m<module>\u001B[0;34m\u001B[0m\n\u001B[1;32m      2\u001B[0m \u001B[38;5;28;01mimport\u001B[39;00m \u001B[38;5;21;01mpandas\u001B[39;00m \u001B[38;5;28;01mas\u001B[39;00m \u001B[38;5;21;01mpd\u001B[39;00m\n\u001B[1;32m      4\u001B[0m \u001B[38;5;66;03m# read in data\u001B[39;00m\n\u001B[0;32m----> 5\u001B[0m dtrain \u001B[38;5;241m=\u001B[39m \u001B[43mxgb\u001B[49m\u001B[38;5;241;43m.\u001B[39;49m\u001B[43mDMatrix\u001B[49m\u001B[43m(\u001B[49m\u001B[38;5;124;43m\"\u001B[39;49m\u001B[38;5;124;43mquali_all.txt\u001B[39;49m\u001B[38;5;124;43m\"\u001B[39;49m\u001B[43m)\u001B[49m\n\u001B[1;32m      6\u001B[0m dtest \u001B[38;5;241m=\u001B[39m xgb\u001B[38;5;241m.\u001B[39mDMatrix(\u001B[38;5;124m\"\u001B[39m\u001B[38;5;124mquali_all.txt\u001B[39m\u001B[38;5;124m\"\u001B[39m)\n\u001B[1;32m      7\u001B[0m \u001B[38;5;66;03m# specify parameters via map\u001B[39;00m\n",
      "File \u001B[0;32m~/sandbox/uni_data_analysis/env/lib/python3.9/site-packages/xgboost/core.py:506\u001B[0m, in \u001B[0;36m_deprecate_positional_args.<locals>.inner_f\u001B[0;34m(*args, **kwargs)\u001B[0m\n\u001B[1;32m    504\u001B[0m \u001B[38;5;28;01mfor\u001B[39;00m k, arg \u001B[38;5;129;01min\u001B[39;00m \u001B[38;5;28mzip\u001B[39m(sig\u001B[38;5;241m.\u001B[39mparameters, args):\n\u001B[1;32m    505\u001B[0m     kwargs[k] \u001B[38;5;241m=\u001B[39m arg\n\u001B[0;32m--> 506\u001B[0m \u001B[38;5;28;01mreturn\u001B[39;00m \u001B[43mf\u001B[49m\u001B[43m(\u001B[49m\u001B[38;5;241;43m*\u001B[39;49m\u001B[38;5;241;43m*\u001B[39;49m\u001B[43mkwargs\u001B[49m\u001B[43m)\u001B[49m\n",
      "File \u001B[0;32m~/sandbox/uni_data_analysis/env/lib/python3.9/site-packages/xgboost/core.py:616\u001B[0m, in \u001B[0;36mDMatrix.__init__\u001B[0;34m(self, data, label, weight, base_margin, missing, silent, feature_names, feature_types, nthread, group, qid, label_lower_bound, label_upper_bound, feature_weights, enable_categorical)\u001B[0m\n\u001B[1;32m    613\u001B[0m     \u001B[38;5;28;01massert\u001B[39;00m \u001B[38;5;28mself\u001B[39m\u001B[38;5;241m.\u001B[39mhandle \u001B[38;5;129;01mis\u001B[39;00m \u001B[38;5;129;01mnot\u001B[39;00m \u001B[38;5;28;01mNone\u001B[39;00m\n\u001B[1;32m    614\u001B[0m     \u001B[38;5;28;01mreturn\u001B[39;00m\n\u001B[0;32m--> 616\u001B[0m handle, feature_names, feature_types \u001B[38;5;241m=\u001B[39m \u001B[43mdispatch_data_backend\u001B[49m\u001B[43m(\u001B[49m\n\u001B[1;32m    617\u001B[0m \u001B[43m    \u001B[49m\u001B[43mdata\u001B[49m\u001B[43m,\u001B[49m\n\u001B[1;32m    618\u001B[0m \u001B[43m    \u001B[49m\u001B[43mmissing\u001B[49m\u001B[38;5;241;43m=\u001B[39;49m\u001B[38;5;28;43mself\u001B[39;49m\u001B[38;5;241;43m.\u001B[39;49m\u001B[43mmissing\u001B[49m\u001B[43m,\u001B[49m\n\u001B[1;32m    619\u001B[0m \u001B[43m    \u001B[49m\u001B[43mthreads\u001B[49m\u001B[38;5;241;43m=\u001B[39;49m\u001B[38;5;28;43mself\u001B[39;49m\u001B[38;5;241;43m.\u001B[39;49m\u001B[43mnthread\u001B[49m\u001B[43m,\u001B[49m\n\u001B[1;32m    620\u001B[0m \u001B[43m    \u001B[49m\u001B[43mfeature_names\u001B[49m\u001B[38;5;241;43m=\u001B[39;49m\u001B[43mfeature_names\u001B[49m\u001B[43m,\u001B[49m\n\u001B[1;32m    621\u001B[0m \u001B[43m    \u001B[49m\u001B[43mfeature_types\u001B[49m\u001B[38;5;241;43m=\u001B[39;49m\u001B[43mfeature_types\u001B[49m\u001B[43m,\u001B[49m\n\u001B[1;32m    622\u001B[0m \u001B[43m    \u001B[49m\u001B[43menable_categorical\u001B[49m\u001B[38;5;241;43m=\u001B[39;49m\u001B[43menable_categorical\u001B[49m\u001B[43m,\u001B[49m\n\u001B[1;32m    623\u001B[0m \u001B[43m\u001B[49m\u001B[43m)\u001B[49m\n\u001B[1;32m    624\u001B[0m \u001B[38;5;28;01massert\u001B[39;00m handle \u001B[38;5;129;01mis\u001B[39;00m \u001B[38;5;129;01mnot\u001B[39;00m \u001B[38;5;28;01mNone\u001B[39;00m\n\u001B[1;32m    625\u001B[0m \u001B[38;5;28mself\u001B[39m\u001B[38;5;241m.\u001B[39mhandle \u001B[38;5;241m=\u001B[39m handle\n",
      "File \u001B[0;32m~/sandbox/uni_data_analysis/env/lib/python3.9/site-packages/xgboost/data.py:766\u001B[0m, in \u001B[0;36mdispatch_data_backend\u001B[0;34m(data, missing, threads, feature_names, feature_types, enable_categorical)\u001B[0m\n\u001B[1;32m    763\u001B[0m     \u001B[38;5;28;01mreturn\u001B[39;00m _from_numpy_array(data, missing, threads, feature_names,\n\u001B[1;32m    764\u001B[0m                              feature_types)\n\u001B[1;32m    765\u001B[0m \u001B[38;5;28;01mif\u001B[39;00m _is_uri(data):\n\u001B[0;32m--> 766\u001B[0m     \u001B[38;5;28;01mreturn\u001B[39;00m \u001B[43m_from_uri\u001B[49m\u001B[43m(\u001B[49m\u001B[43mdata\u001B[49m\u001B[43m,\u001B[49m\u001B[43m \u001B[49m\u001B[43mmissing\u001B[49m\u001B[43m,\u001B[49m\u001B[43m \u001B[49m\u001B[43mfeature_names\u001B[49m\u001B[43m,\u001B[49m\u001B[43m \u001B[49m\u001B[43mfeature_types\u001B[49m\u001B[43m)\u001B[49m\n\u001B[1;32m    767\u001B[0m \u001B[38;5;28;01mif\u001B[39;00m _is_list(data):\n\u001B[1;32m    768\u001B[0m     \u001B[38;5;28;01mreturn\u001B[39;00m _from_list(data, missing, threads, feature_names, feature_types)\n",
      "File \u001B[0;32m~/sandbox/uni_data_analysis/env/lib/python3.9/site-packages/xgboost/data.py:681\u001B[0m, in \u001B[0;36m_from_uri\u001B[0;34m(data, missing, feature_names, feature_types)\u001B[0m\n\u001B[1;32m    679\u001B[0m handle \u001B[38;5;241m=\u001B[39m ctypes\u001B[38;5;241m.\u001B[39mc_void_p()\n\u001B[1;32m    680\u001B[0m data \u001B[38;5;241m=\u001B[39m os\u001B[38;5;241m.\u001B[39mfspath(os\u001B[38;5;241m.\u001B[39mpath\u001B[38;5;241m.\u001B[39mexpanduser(data))\n\u001B[0;32m--> 681\u001B[0m \u001B[43m_check_call\u001B[49m\u001B[43m(\u001B[49m\u001B[43m_LIB\u001B[49m\u001B[38;5;241;43m.\u001B[39;49m\u001B[43mXGDMatrixCreateFromFile\u001B[49m\u001B[43m(\u001B[49m\u001B[43mc_str\u001B[49m\u001B[43m(\u001B[49m\u001B[43mdata\u001B[49m\u001B[43m)\u001B[49m\u001B[43m,\u001B[49m\n\u001B[1;32m    682\u001B[0m \u001B[43m                                         \u001B[49m\u001B[43mctypes\u001B[49m\u001B[38;5;241;43m.\u001B[39;49m\u001B[43mc_int\u001B[49m\u001B[43m(\u001B[49m\u001B[38;5;241;43m1\u001B[39;49m\u001B[43m)\u001B[49m\u001B[43m,\u001B[49m\n\u001B[1;32m    683\u001B[0m \u001B[43m                                         \u001B[49m\u001B[43mctypes\u001B[49m\u001B[38;5;241;43m.\u001B[39;49m\u001B[43mbyref\u001B[49m\u001B[43m(\u001B[49m\u001B[43mhandle\u001B[49m\u001B[43m)\u001B[49m\u001B[43m)\u001B[49m\u001B[43m)\u001B[49m\n\u001B[1;32m    684\u001B[0m \u001B[38;5;28;01mreturn\u001B[39;00m handle, feature_names, feature_types\n",
      "File \u001B[0;32m~/sandbox/uni_data_analysis/env/lib/python3.9/site-packages/xgboost/core.py:218\u001B[0m, in \u001B[0;36m_check_call\u001B[0;34m(ret)\u001B[0m\n\u001B[1;32m    207\u001B[0m \u001B[38;5;124;03m\"\"\"Check the return value of C API call\u001B[39;00m\n\u001B[1;32m    208\u001B[0m \n\u001B[1;32m    209\u001B[0m \u001B[38;5;124;03mThis function will raise exception when error occurs.\u001B[39;00m\n\u001B[0;32m   (...)\u001B[0m\n\u001B[1;32m    215\u001B[0m \u001B[38;5;124;03m    return value from API calls\u001B[39;00m\n\u001B[1;32m    216\u001B[0m \u001B[38;5;124;03m\"\"\"\u001B[39;00m\n\u001B[1;32m    217\u001B[0m \u001B[38;5;28;01mif\u001B[39;00m ret \u001B[38;5;241m!=\u001B[39m \u001B[38;5;241m0\u001B[39m:\n\u001B[0;32m--> 218\u001B[0m     \u001B[38;5;28;01mraise\u001B[39;00m XGBoostError(py_str(_LIB\u001B[38;5;241m.\u001B[39mXGBGetLastError()))\n",
      "\u001B[0;31mXGBoostError\u001B[0m: [22:58:43] /Users/runner/work/xgboost/xgboost/src/data/data.cc:765: Encountered parser error:\n[22:58:43] /Users/runner/work/xgboost/xgboost/dmlc-core/src/data/./row_block.h:177: Check failed: offset.back() == value.size() || value.size() == 0: \nStack trace:\n  [bt] (0) 1   libxgboost.dylib                    0x00000001284a34a4 dmlc::LogMessageFatal::~LogMessageFatal() + 116\n  [bt] (1) 2   libxgboost.dylib                    0x000000012865745b dmlc::data::RowBlockContainer<unsigned int, float>::GetBlock() const + 683\n  [bt] (2) 3   libxgboost.dylib                    0x00000001286705a7 dmlc::data::ThreadedParser<unsigned int, float>::Next() + 215\n  [bt] (3) 4   libxgboost.dylib                    0x00000001284f94b7 xgboost::data::FileAdapter::Next() + 23\n  [bt] (4) 5   libxgboost.dylib                    0x000000012850d0f0 xgboost::data::SimpleDMatrix::SimpleDMatrix<xgboost::data::FileAdapter>(xgboost::data::FileAdapter*, float, int) + 368\n  [bt] (5) 6   libxgboost.dylib                    0x00000001284f5349 xgboost::DMatrix::Load(std::__1::basic_string<char, std::__1::char_traits<char>, std::__1::allocator<char> > const&, bool, bool, std::__1::basic_string<char, std::__1::char_traits<char>, std::__1::allocator<char> > const&) + 2521\n  [bt] (6) 7   libxgboost.dylib                    0x0000000128491cfc XGDMatrixCreateFromFile + 316\n  [bt] (7) 8   libffi.dylib                        0x00007fff2dda28f5 ffi_call_unix64 + 85\n  [bt] (8) 9   ???                                 0x00007ffeeabf0e30 0x0 + 140732836810288\n\n\nStack trace:\n  [bt] (0) 1   libxgboost.dylib                    0x00000001284a34a4 dmlc::LogMessageFatal::~LogMessageFatal() + 116\n  [bt] (1) 2   libxgboost.dylib                    0x00000001284f5d46 xgboost::DMatrix::Load(std::__1::basic_string<char, std::__1::char_traits<char>, std::__1::allocator<char> > const&, bool, bool, std::__1::basic_string<char, std::__1::char_traits<char>, std::__1::allocator<char> > const&) + 5078\n  [bt] (2) 3   libxgboost.dylib                    0x0000000128491cfc XGDMatrixCreateFromFile + 316\n  [bt] (3) 4   libffi.dylib                        0x00007fff2dda28f5 ffi_call_unix64 + 85\n  [bt] (4) 5   ???                                 0x00007ffeeabf0e30 0x0 + 140732836810288\n\n"
     ]
    }
   ],
   "source": [
    "import xgboost as xgb\n",
    "import pandas as pd\n",
    "\n",
    "# read in data\n",
    "dtrain = xgb.DMatrix(\"quali_all.txt\")\n",
    "dtest = xgb.DMatrix(\"quali_all.txt\")\n",
    "# specify parameters via map\n",
    "param = {'max_depth':2, 'eta':1, 'objective':'binary:logistic' }\n",
    "num_round = 2\n",
    "bst = xgb.train(param, dtrain, num_round)\n",
    "# make prediction\n",
    "preds = bst.predict(dtest)\n",
    "preds"
   ]
  },
  {
   "cell_type": "code",
   "execution_count": null,
   "outputs": [],
   "source": [],
   "metadata": {
    "collapsed": false,
    "pycharm": {
     "name": "#%%\n"
    }
   }
  }
 ],
 "metadata": {
  "kernelspec": {
   "display_name": "Python 3",
   "language": "python",
   "name": "python3"
  },
  "language_info": {
   "codemirror_mode": {
    "name": "ipython",
    "version": 2
   },
   "file_extension": ".py",
   "mimetype": "text/x-python",
   "name": "python",
   "nbconvert_exporter": "python",
   "pygments_lexer": "ipython2",
   "version": "2.7.6"
  }
 },
 "nbformat": 4,
 "nbformat_minor": 0
}